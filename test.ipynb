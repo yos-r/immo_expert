{
 "cells": [
  {
   "cell_type": "code",
   "execution_count": null,
   "metadata": {},
   "outputs": [
    {
     "name": "stderr",
     "output_type": "stream",
     "text": [
      "ERROR: Invalid requirement: '#': Expected package name at the start of dependency specifier\n",
      "    #\n",
      "    ^\n",
      "ERROR: Invalid requirement: '#yfinance': Expected package name at the start of dependency specifier\n",
      "    #yfinance\n",
      "    ^\n"
     ]
    }
   ],
   "source": [
    "! pip install experta # can't run with this package alone, compatibility issues experta 1.9.4 requires frozendict==1.2\n",
    "! pip install --upgrade frozendict #yfinance 0.2.31 requires frozendict>=2.3.4\n",
    "! pip uninstall frozendict\n",
    "! pip uninstall yfinance\n",
    "! pip install yfinance"
   ]
  },
  {
   "cell_type": "code",
   "execution_count": null,
   "metadata": {},
   "outputs": [],
   "source": []
  }
 ],
 "metadata": {
  "kernelspec": {
   "display_name": "immo",
   "language": "python",
   "name": "python3"
  },
  "language_info": {
   "codemirror_mode": {
    "name": "ipython",
    "version": 3
   },
   "file_extension": ".py",
   "mimetype": "text/x-python",
   "name": "python",
   "nbconvert_exporter": "python",
   "pygments_lexer": "ipython3",
   "version": "3.9.20"
  }
 },
 "nbformat": 4,
 "nbformat_minor": 2
}
